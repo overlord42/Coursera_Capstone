{
 "cells": [
  {
   "cell_type": "markdown",
   "metadata": {},
   "source": [
    "## This Notebook contains assignment for week 3. I have divided the work in the three parts in this Notebook.\n",
    "### Part 1 consist of scraping the wikipedia page and making the dataframe\n",
    "### Part 2 consist of adding the coordinates into the dataframe, that was created in part one\n",
    "### Part 3 consists of clustering the neighborhood"
   ]
  },
  {
   "cell_type": "markdown",
   "metadata": {},
   "source": [
    "## Part 1\n",
    "\n",
    "### In this part, we use BeautifulSoup and urllib packages to make a scrape and make request to the wiki page. we use lxml parser to parse the page into BeautifulSoup Object that contains the tags. \n",
    "### then we use tag names to get the content we want"
   ]
  },
  {
   "cell_type": "code",
   "execution_count": 1,
   "metadata": {
    "collapsed": true
   },
   "outputs": [],
   "source": [
    "import pandas as pd\n",
    "from bs4 import BeautifulSoup\n",
    "from urllib.request import urlopen"
   ]
  },
  {
   "cell_type": "code",
   "execution_count": 2,
   "metadata": {
    "collapsed": true
   },
   "outputs": [],
   "source": [
    "page = urlopen(r'https://en.wikipedia.org/wiki/List_of_postal_codes_of_Canada:_M')"
   ]
  },
  {
   "cell_type": "code",
   "execution_count": 3,
   "metadata": {
    "collapsed": false
   },
   "outputs": [],
   "source": [
    "bsobj = BeautifulSoup(page, 'lxml')"
   ]
  },
  {
   "cell_type": "markdown",
   "metadata": {},
   "source": [
    "### As you can see in the above cell BeautifulSoup has parsed the html page into a tree kind of structure, now we will use the table tag to get the content we want"
   ]
  },
  {
   "cell_type": "code",
   "execution_count": 5,
   "metadata": {
    "collapsed": false,
    "scrolled": true
   },
   "outputs": [],
   "source": [
    "table = bsobj.table"
   ]
  },
  {
   "cell_type": "markdown",
   "metadata": {},
   "source": [
    "### As you can see in the above cell we queried the content that is in table tag. \n",
    "### Now, the code in cell below loops through each row in the table and gets the data from each row appends into the list"
   ]
  },
  {
   "cell_type": "code",
   "execution_count": 6,
   "metadata": {
    "collapsed": false
   },
   "outputs": [],
   "source": [
    "PostalCode=[]\n",
    "Borough=[]\n",
    "Neighborhood=[]\n",
    "\n",
    "for tr in table.find_all('tr')[1:]:\n",
    "    PostalCode.append(tr.find_all('td')[0].get_text())\n",
    "    Borough.append(tr.find_all('td')[1].get_text())\n",
    "    Neighborhood.append(tr.find_all('td')[2].get_text().strip('\\n'))\n"
   ]
  },
  {
   "cell_type": "markdown",
   "metadata": {},
   "source": [
    "### As mentioned in the assignment; If a cell has a borough but a Not assigned neighborhood, then the neighborhood will be the same as the borough. the next block of code does that"
   ]
  },
  {
   "cell_type": "code",
   "execution_count": 7,
   "metadata": {
    "collapsed": false
   },
   "outputs": [],
   "source": [
    "for i,j in enumerate(Neighborhood):\n",
    "    if j=='Not assigned':\n",
    "        if Borough[i]=='Not assigned':\n",
    "            Neighborhood[i]=Borough[i]\n",
    "        else:\n",
    "            Neighborhood[i]=Borough[i]"
   ]
  },
  {
   "cell_type": "code",
   "execution_count": 8,
   "metadata": {
    "collapsed": true
   },
   "outputs": [],
   "source": [
    "df = pd.DataFrame({\n",
    "        'PostalCode':PostalCode,\n",
    "        'Borough':Borough,\n",
    "        'Neighborhood':Neighborhood\n",
    "    })"
   ]
  },
  {
   "cell_type": "code",
   "execution_count": 9,
   "metadata": {
    "collapsed": false
   },
   "outputs": [
    {
     "data": {
      "text/html": [
       "<div>\n",
       "<table border=\"1\" class=\"dataframe\">\n",
       "  <thead>\n",
       "    <tr style=\"text-align: right;\">\n",
       "      <th></th>\n",
       "      <th>Borough</th>\n",
       "      <th>Neighborhood</th>\n",
       "      <th>PostalCode</th>\n",
       "    </tr>\n",
       "  </thead>\n",
       "  <tbody>\n",
       "    <tr>\n",
       "      <th>0</th>\n",
       "      <td>Not assigned</td>\n",
       "      <td>Not assigned</td>\n",
       "      <td>M1A</td>\n",
       "    </tr>\n",
       "    <tr>\n",
       "      <th>1</th>\n",
       "      <td>Not assigned</td>\n",
       "      <td>Not assigned</td>\n",
       "      <td>M2A</td>\n",
       "    </tr>\n",
       "    <tr>\n",
       "      <th>2</th>\n",
       "      <td>North York</td>\n",
       "      <td>Parkwoods</td>\n",
       "      <td>M3A</td>\n",
       "    </tr>\n",
       "    <tr>\n",
       "      <th>3</th>\n",
       "      <td>North York</td>\n",
       "      <td>Victoria Village</td>\n",
       "      <td>M4A</td>\n",
       "    </tr>\n",
       "    <tr>\n",
       "      <th>4</th>\n",
       "      <td>Downtown Toronto</td>\n",
       "      <td>Harbourfront</td>\n",
       "      <td>M5A</td>\n",
       "    </tr>\n",
       "    <tr>\n",
       "      <th>5</th>\n",
       "      <td>Downtown Toronto</td>\n",
       "      <td>Regent Park</td>\n",
       "      <td>M5A</td>\n",
       "    </tr>\n",
       "    <tr>\n",
       "      <th>6</th>\n",
       "      <td>North York</td>\n",
       "      <td>Lawrence Heights</td>\n",
       "      <td>M6A</td>\n",
       "    </tr>\n",
       "    <tr>\n",
       "      <th>7</th>\n",
       "      <td>North York</td>\n",
       "      <td>Lawrence Manor</td>\n",
       "      <td>M6A</td>\n",
       "    </tr>\n",
       "    <tr>\n",
       "      <th>8</th>\n",
       "      <td>Queen's Park</td>\n",
       "      <td>Queen's Park</td>\n",
       "      <td>M7A</td>\n",
       "    </tr>\n",
       "    <tr>\n",
       "      <th>9</th>\n",
       "      <td>Not assigned</td>\n",
       "      <td>Not assigned</td>\n",
       "      <td>M8A</td>\n",
       "    </tr>\n",
       "  </tbody>\n",
       "</table>\n",
       "</div>"
      ],
      "text/plain": [
       "            Borough      Neighborhood PostalCode\n",
       "0      Not assigned      Not assigned        M1A\n",
       "1      Not assigned      Not assigned        M2A\n",
       "2        North York         Parkwoods        M3A\n",
       "3        North York  Victoria Village        M4A\n",
       "4  Downtown Toronto      Harbourfront        M5A\n",
       "5  Downtown Toronto       Regent Park        M5A\n",
       "6        North York  Lawrence Heights        M6A\n",
       "7        North York    Lawrence Manor        M6A\n",
       "8      Queen's Park      Queen's Park        M7A\n",
       "9      Not assigned      Not assigned        M8A"
      ]
     },
     "execution_count": 9,
     "metadata": {},
     "output_type": "execute_result"
    }
   ],
   "source": [
    "df.head(10)"
   ]
  },
  {
   "cell_type": "markdown",
   "metadata": {},
   "source": [
    "### we see in the below two cells that both the Borough and Neighborhood columns has 77 counts of Not assigned values"
   ]
  },
  {
   "cell_type": "code",
   "execution_count": 10,
   "metadata": {
    "collapsed": false
   },
   "outputs": [
    {
     "data": {
      "text/plain": [
       "Not assigned        77\n",
       "Etobicoke           45\n",
       "North York          38\n",
       "Scarborough         37\n",
       "Downtown Toronto    37\n",
       "Central Toronto     17\n",
       "West Toronto        13\n",
       "York                 9\n",
       "East Toronto         7\n",
       "East York            6\n",
       "Queen's Park         1\n",
       "Mississauga          1\n",
       "Name: Borough, dtype: int64"
      ]
     },
     "execution_count": 10,
     "metadata": {},
     "output_type": "execute_result"
    }
   ],
   "source": [
    "df['Borough'].value_counts()"
   ]
  },
  {
   "cell_type": "code",
   "execution_count": 12,
   "metadata": {
    "collapsed": false
   },
   "outputs": [
    {
     "data": {
      "text/plain": [
       "Not assigned            77\n",
       "St. James Town           2\n",
       "Runnymede                2\n",
       "Christie                 1\n",
       "Thistletown              1\n",
       "Queen's Park             1\n",
       "East Birchmount Park     1\n",
       "Cedarbrae                1\n",
       "Regent Park              1\n",
       "The Beaches              1\n",
       "Little Portugal          1\n",
       "Jamestown                1\n",
       "Bathurst Quay            1\n",
       "Don Mills North          1\n",
       "Parkdale                 1\n",
       "Weston                   1\n",
       "Woburn                   1\n",
       "The Queensway West       1\n",
       "Upper Rouge              1\n",
       "Clairlea                 1\n",
       "South Niagara            1\n",
       "Keelesdale               1\n",
       "Woodbine Heights         1\n",
       "King and Spadina         1\n",
       "The Kingsway             1\n",
       "Exhibition Place         1\n",
       "CFB Toronto              1\n",
       "L'Amoreaux West          1\n",
       "Oriole                   1\n",
       "Union Station            1\n",
       "                        ..\n",
       "Church and Wellesley     1\n",
       "Downsview Central        1\n",
       "West Deane Park          1\n",
       "Toronto Islands          1\n",
       "Old Burnhamthorpe        1\n",
       "Glencairn                1\n",
       "High Park                1\n",
       "First Canadian Place     1\n",
       "Roncesvalles             1\n",
       "Old Mill North           1\n",
       "York Mills West          1\n",
       "Silverstone              1\n",
       "Clarks Corners           1\n",
       "Cliffcrest               1\n",
       "Maryvale                 1\n",
       "North Toronto West       1\n",
       "Milliken                 1\n",
       "New Toronto              1\n",
       "Lawrence Park            1\n",
       "The Annex                1\n",
       "Fairview                 1\n",
       "Islington Avenue         1\n",
       "Richview Gardens         1\n",
       "Victoria Hotel           1\n",
       "Cloverdale               1\n",
       "North Midtown            1\n",
       "Scarborough Village      1\n",
       "Harbourfront East        1\n",
       "Caledonia-Fairbanks      1\n",
       "Harbord                  1\n",
       "Name: Neighborhood, dtype: int64"
      ]
     },
     "execution_count": 12,
     "metadata": {},
     "output_type": "execute_result"
    }
   ],
   "source": [
    "df['Neighborhood'].value_counts()"
   ]
  },
  {
   "cell_type": "markdown",
   "metadata": {},
   "source": [
    "### Now we want to ignore the cells that has a Borough Not assigned"
   ]
  },
  {
   "cell_type": "code",
   "execution_count": 13,
   "metadata": {
    "collapsed": false
   },
   "outputs": [],
   "source": [
    "df = df[df.Borough!='Not assigned']"
   ]
  },
  {
   "cell_type": "markdown",
   "metadata": {},
   "source": [
    "### now by applying groupby function, we add more than one neighborhood  that can exist in one postal code area."
   ]
  },
  {
   "cell_type": "code",
   "execution_count": 14,
   "metadata": {
    "collapsed": false
   },
   "outputs": [],
   "source": [
    "df_new = df.groupby(['PostalCode', 'Borough'])['Neighborhood'].apply(', '.join).reset_index()"
   ]
  },
  {
   "cell_type": "code",
   "execution_count": 15,
   "metadata": {
    "collapsed": false
   },
   "outputs": [
    {
     "data": {
      "text/plain": [
       "(103, 3)"
      ]
     },
     "execution_count": 15,
     "metadata": {},
     "output_type": "execute_result"
    }
   ],
   "source": [
    "df_new.shape"
   ]
  },
  {
   "cell_type": "markdown",
   "metadata": {},
   "source": [
    "## Part 2\n",
    "### We will add the coordinates into the dataframe we created above"
   ]
  },
  {
   "cell_type": "code",
   "execution_count": 16,
   "metadata": {
    "collapsed": false
   },
   "outputs": [],
   "source": [
    "df_coordinates = pd.read_csv(r'c:\\users\\paras\\desktop\\Geospatial_Coordinates.csv')"
   ]
  },
  {
   "cell_type": "code",
   "execution_count": 17,
   "metadata": {
    "collapsed": false
   },
   "outputs": [
    {
     "data": {
      "text/plain": [
       "(103, 3)"
      ]
     },
     "execution_count": 17,
     "metadata": {},
     "output_type": "execute_result"
    }
   ],
   "source": [
    "df_coordinates.shape"
   ]
  },
  {
   "cell_type": "markdown",
   "metadata": {},
   "source": [
    "### changing the name of columns, so that when we merge to dataframes on one key, the name of key should be same. just like joining table in SQL"
   ]
  },
  {
   "cell_type": "code",
   "execution_count": 18,
   "metadata": {
    "collapsed": false
   },
   "outputs": [],
   "source": [
    "df_coordinates.rename(columns={'Postal Code':'PostalCode'}, inplace=True)"
   ]
  },
  {
   "cell_type": "code",
   "execution_count": 19,
   "metadata": {
    "collapsed": false
   },
   "outputs": [
    {
     "data": {
      "text/plain": [
       "Index(['PostalCode', 'Latitude', 'Longitude'], dtype='object')"
      ]
     },
     "execution_count": 19,
     "metadata": {},
     "output_type": "execute_result"
    }
   ],
   "source": [
    "df_coordinates.columns"
   ]
  },
  {
   "cell_type": "code",
   "execution_count": 20,
   "metadata": {
    "collapsed": false,
    "scrolled": true
   },
   "outputs": [],
   "source": [
    "df_data = pd.merge(df_new, df_coordinates, on='PostalCode')"
   ]
  },
  {
   "cell_type": "code",
   "execution_count": 21,
   "metadata": {
    "collapsed": false
   },
   "outputs": [
    {
     "data": {
      "text/plain": [
       "(103, 5)"
      ]
     },
     "execution_count": 21,
     "metadata": {},
     "output_type": "execute_result"
    }
   ],
   "source": [
    "df_data.shape"
   ]
  },
  {
   "cell_type": "code",
   "execution_count": 22,
   "metadata": {
    "collapsed": false
   },
   "outputs": [
    {
     "data": {
      "text/html": [
       "<div>\n",
       "<table border=\"1\" class=\"dataframe\">\n",
       "  <thead>\n",
       "    <tr style=\"text-align: right;\">\n",
       "      <th></th>\n",
       "      <th>PostalCode</th>\n",
       "      <th>Borough</th>\n",
       "      <th>Neighborhood</th>\n",
       "      <th>Latitude</th>\n",
       "      <th>Longitude</th>\n",
       "    </tr>\n",
       "  </thead>\n",
       "  <tbody>\n",
       "    <tr>\n",
       "      <th>0</th>\n",
       "      <td>M1B</td>\n",
       "      <td>Scarborough</td>\n",
       "      <td>Rouge, Malvern</td>\n",
       "      <td>43.806686</td>\n",
       "      <td>-79.194353</td>\n",
       "    </tr>\n",
       "    <tr>\n",
       "      <th>1</th>\n",
       "      <td>M1C</td>\n",
       "      <td>Scarborough</td>\n",
       "      <td>Highland Creek, Rouge Hill, Port Union</td>\n",
       "      <td>43.784535</td>\n",
       "      <td>-79.160497</td>\n",
       "    </tr>\n",
       "    <tr>\n",
       "      <th>2</th>\n",
       "      <td>M1E</td>\n",
       "      <td>Scarborough</td>\n",
       "      <td>Guildwood, Morningside, West Hill</td>\n",
       "      <td>43.763573</td>\n",
       "      <td>-79.188711</td>\n",
       "    </tr>\n",
       "    <tr>\n",
       "      <th>3</th>\n",
       "      <td>M1G</td>\n",
       "      <td>Scarborough</td>\n",
       "      <td>Woburn</td>\n",
       "      <td>43.770992</td>\n",
       "      <td>-79.216917</td>\n",
       "    </tr>\n",
       "    <tr>\n",
       "      <th>4</th>\n",
       "      <td>M1H</td>\n",
       "      <td>Scarborough</td>\n",
       "      <td>Cedarbrae</td>\n",
       "      <td>43.773136</td>\n",
       "      <td>-79.239476</td>\n",
       "    </tr>\n",
       "    <tr>\n",
       "      <th>5</th>\n",
       "      <td>M1J</td>\n",
       "      <td>Scarborough</td>\n",
       "      <td>Scarborough Village</td>\n",
       "      <td>43.744734</td>\n",
       "      <td>-79.239476</td>\n",
       "    </tr>\n",
       "    <tr>\n",
       "      <th>6</th>\n",
       "      <td>M1K</td>\n",
       "      <td>Scarborough</td>\n",
       "      <td>East Birchmount Park, Ionview, Kennedy Park</td>\n",
       "      <td>43.727929</td>\n",
       "      <td>-79.262029</td>\n",
       "    </tr>\n",
       "    <tr>\n",
       "      <th>7</th>\n",
       "      <td>M1L</td>\n",
       "      <td>Scarborough</td>\n",
       "      <td>Clairlea, Golden Mile, Oakridge</td>\n",
       "      <td>43.711112</td>\n",
       "      <td>-79.284577</td>\n",
       "    </tr>\n",
       "    <tr>\n",
       "      <th>8</th>\n",
       "      <td>M1M</td>\n",
       "      <td>Scarborough</td>\n",
       "      <td>Cliffcrest, Cliffside, Scarborough Village West</td>\n",
       "      <td>43.716316</td>\n",
       "      <td>-79.239476</td>\n",
       "    </tr>\n",
       "    <tr>\n",
       "      <th>9</th>\n",
       "      <td>M1N</td>\n",
       "      <td>Scarborough</td>\n",
       "      <td>Birch Cliff, Cliffside West</td>\n",
       "      <td>43.692657</td>\n",
       "      <td>-79.264848</td>\n",
       "    </tr>\n",
       "    <tr>\n",
       "      <th>10</th>\n",
       "      <td>M1P</td>\n",
       "      <td>Scarborough</td>\n",
       "      <td>Dorset Park, Scarborough Town Centre, Wexford ...</td>\n",
       "      <td>43.757410</td>\n",
       "      <td>-79.273304</td>\n",
       "    </tr>\n",
       "    <tr>\n",
       "      <th>11</th>\n",
       "      <td>M1R</td>\n",
       "      <td>Scarborough</td>\n",
       "      <td>Maryvale, Wexford</td>\n",
       "      <td>43.750072</td>\n",
       "      <td>-79.295849</td>\n",
       "    </tr>\n",
       "    <tr>\n",
       "      <th>12</th>\n",
       "      <td>M1S</td>\n",
       "      <td>Scarborough</td>\n",
       "      <td>Agincourt</td>\n",
       "      <td>43.794200</td>\n",
       "      <td>-79.262029</td>\n",
       "    </tr>\n",
       "    <tr>\n",
       "      <th>13</th>\n",
       "      <td>M1T</td>\n",
       "      <td>Scarborough</td>\n",
       "      <td>Clarks Corners, Sullivan, Tam O'Shanter</td>\n",
       "      <td>43.781638</td>\n",
       "      <td>-79.304302</td>\n",
       "    </tr>\n",
       "    <tr>\n",
       "      <th>14</th>\n",
       "      <td>M1V</td>\n",
       "      <td>Scarborough</td>\n",
       "      <td>Agincourt North, L'Amoreaux East, Milliken, St...</td>\n",
       "      <td>43.815252</td>\n",
       "      <td>-79.284577</td>\n",
       "    </tr>\n",
       "    <tr>\n",
       "      <th>15</th>\n",
       "      <td>M1W</td>\n",
       "      <td>Scarborough</td>\n",
       "      <td>L'Amoreaux West</td>\n",
       "      <td>43.799525</td>\n",
       "      <td>-79.318389</td>\n",
       "    </tr>\n",
       "    <tr>\n",
       "      <th>16</th>\n",
       "      <td>M1X</td>\n",
       "      <td>Scarborough</td>\n",
       "      <td>Upper Rouge</td>\n",
       "      <td>43.836125</td>\n",
       "      <td>-79.205636</td>\n",
       "    </tr>\n",
       "    <tr>\n",
       "      <th>17</th>\n",
       "      <td>M2H</td>\n",
       "      <td>North York</td>\n",
       "      <td>Hillcrest Village</td>\n",
       "      <td>43.803762</td>\n",
       "      <td>-79.363452</td>\n",
       "    </tr>\n",
       "    <tr>\n",
       "      <th>18</th>\n",
       "      <td>M2J</td>\n",
       "      <td>North York</td>\n",
       "      <td>Fairview, Henry Farm, Oriole</td>\n",
       "      <td>43.778517</td>\n",
       "      <td>-79.346556</td>\n",
       "    </tr>\n",
       "    <tr>\n",
       "      <th>19</th>\n",
       "      <td>M2K</td>\n",
       "      <td>North York</td>\n",
       "      <td>Bayview Village</td>\n",
       "      <td>43.786947</td>\n",
       "      <td>-79.385975</td>\n",
       "    </tr>\n",
       "    <tr>\n",
       "      <th>20</th>\n",
       "      <td>M2L</td>\n",
       "      <td>North York</td>\n",
       "      <td>Silver Hills, York Mills</td>\n",
       "      <td>43.757490</td>\n",
       "      <td>-79.374714</td>\n",
       "    </tr>\n",
       "    <tr>\n",
       "      <th>21</th>\n",
       "      <td>M2M</td>\n",
       "      <td>North York</td>\n",
       "      <td>Newtonbrook, Willowdale</td>\n",
       "      <td>43.789053</td>\n",
       "      <td>-79.408493</td>\n",
       "    </tr>\n",
       "    <tr>\n",
       "      <th>22</th>\n",
       "      <td>M2N</td>\n",
       "      <td>North York</td>\n",
       "      <td>Willowdale South</td>\n",
       "      <td>43.770120</td>\n",
       "      <td>-79.408493</td>\n",
       "    </tr>\n",
       "    <tr>\n",
       "      <th>23</th>\n",
       "      <td>M2P</td>\n",
       "      <td>North York</td>\n",
       "      <td>York Mills West</td>\n",
       "      <td>43.752758</td>\n",
       "      <td>-79.400049</td>\n",
       "    </tr>\n",
       "    <tr>\n",
       "      <th>24</th>\n",
       "      <td>M2R</td>\n",
       "      <td>North York</td>\n",
       "      <td>Willowdale West</td>\n",
       "      <td>43.782736</td>\n",
       "      <td>-79.442259</td>\n",
       "    </tr>\n",
       "    <tr>\n",
       "      <th>25</th>\n",
       "      <td>M3A</td>\n",
       "      <td>North York</td>\n",
       "      <td>Parkwoods</td>\n",
       "      <td>43.753259</td>\n",
       "      <td>-79.329656</td>\n",
       "    </tr>\n",
       "    <tr>\n",
       "      <th>26</th>\n",
       "      <td>M3B</td>\n",
       "      <td>North York</td>\n",
       "      <td>Don Mills North</td>\n",
       "      <td>43.745906</td>\n",
       "      <td>-79.352188</td>\n",
       "    </tr>\n",
       "    <tr>\n",
       "      <th>27</th>\n",
       "      <td>M3C</td>\n",
       "      <td>North York</td>\n",
       "      <td>Flemingdon Park, Don Mills South</td>\n",
       "      <td>43.725900</td>\n",
       "      <td>-79.340923</td>\n",
       "    </tr>\n",
       "    <tr>\n",
       "      <th>28</th>\n",
       "      <td>M3H</td>\n",
       "      <td>North York</td>\n",
       "      <td>Bathurst Manor, Downsview North, Wilson Heights</td>\n",
       "      <td>43.754328</td>\n",
       "      <td>-79.442259</td>\n",
       "    </tr>\n",
       "    <tr>\n",
       "      <th>29</th>\n",
       "      <td>M3J</td>\n",
       "      <td>North York</td>\n",
       "      <td>Northwood Park, York University</td>\n",
       "      <td>43.767980</td>\n",
       "      <td>-79.487262</td>\n",
       "    </tr>\n",
       "    <tr>\n",
       "      <th>...</th>\n",
       "      <td>...</td>\n",
       "      <td>...</td>\n",
       "      <td>...</td>\n",
       "      <td>...</td>\n",
       "      <td>...</td>\n",
       "    </tr>\n",
       "    <tr>\n",
       "      <th>73</th>\n",
       "      <td>M6C</td>\n",
       "      <td>York</td>\n",
       "      <td>Humewood-Cedarvale</td>\n",
       "      <td>43.693781</td>\n",
       "      <td>-79.428191</td>\n",
       "    </tr>\n",
       "    <tr>\n",
       "      <th>74</th>\n",
       "      <td>M6E</td>\n",
       "      <td>York</td>\n",
       "      <td>Caledonia-Fairbanks</td>\n",
       "      <td>43.689026</td>\n",
       "      <td>-79.453512</td>\n",
       "    </tr>\n",
       "    <tr>\n",
       "      <th>75</th>\n",
       "      <td>M6G</td>\n",
       "      <td>Downtown Toronto</td>\n",
       "      <td>Christie</td>\n",
       "      <td>43.669542</td>\n",
       "      <td>-79.422564</td>\n",
       "    </tr>\n",
       "    <tr>\n",
       "      <th>76</th>\n",
       "      <td>M6H</td>\n",
       "      <td>West Toronto</td>\n",
       "      <td>Dovercourt Village, Dufferin</td>\n",
       "      <td>43.669005</td>\n",
       "      <td>-79.442259</td>\n",
       "    </tr>\n",
       "    <tr>\n",
       "      <th>77</th>\n",
       "      <td>M6J</td>\n",
       "      <td>West Toronto</td>\n",
       "      <td>Little Portugal, Trinity</td>\n",
       "      <td>43.647927</td>\n",
       "      <td>-79.419750</td>\n",
       "    </tr>\n",
       "    <tr>\n",
       "      <th>78</th>\n",
       "      <td>M6K</td>\n",
       "      <td>West Toronto</td>\n",
       "      <td>Brockton, Exhibition Place, Parkdale Village</td>\n",
       "      <td>43.636847</td>\n",
       "      <td>-79.428191</td>\n",
       "    </tr>\n",
       "    <tr>\n",
       "      <th>79</th>\n",
       "      <td>M6L</td>\n",
       "      <td>North York</td>\n",
       "      <td>Downsview, North Park, Upwood Park</td>\n",
       "      <td>43.713756</td>\n",
       "      <td>-79.490074</td>\n",
       "    </tr>\n",
       "    <tr>\n",
       "      <th>80</th>\n",
       "      <td>M6M</td>\n",
       "      <td>York</td>\n",
       "      <td>Del Ray, Keelesdale, Mount Dennis, Silverthorn</td>\n",
       "      <td>43.691116</td>\n",
       "      <td>-79.476013</td>\n",
       "    </tr>\n",
       "    <tr>\n",
       "      <th>81</th>\n",
       "      <td>M6N</td>\n",
       "      <td>York</td>\n",
       "      <td>The Junction North, Runnymede</td>\n",
       "      <td>43.673185</td>\n",
       "      <td>-79.487262</td>\n",
       "    </tr>\n",
       "    <tr>\n",
       "      <th>82</th>\n",
       "      <td>M6P</td>\n",
       "      <td>West Toronto</td>\n",
       "      <td>High Park, The Junction South</td>\n",
       "      <td>43.661608</td>\n",
       "      <td>-79.464763</td>\n",
       "    </tr>\n",
       "    <tr>\n",
       "      <th>83</th>\n",
       "      <td>M6R</td>\n",
       "      <td>West Toronto</td>\n",
       "      <td>Parkdale, Roncesvalles</td>\n",
       "      <td>43.648960</td>\n",
       "      <td>-79.456325</td>\n",
       "    </tr>\n",
       "    <tr>\n",
       "      <th>84</th>\n",
       "      <td>M6S</td>\n",
       "      <td>West Toronto</td>\n",
       "      <td>Runnymede, Swansea</td>\n",
       "      <td>43.651571</td>\n",
       "      <td>-79.484450</td>\n",
       "    </tr>\n",
       "    <tr>\n",
       "      <th>85</th>\n",
       "      <td>M7A</td>\n",
       "      <td>Queen's Park</td>\n",
       "      <td>Queen's Park</td>\n",
       "      <td>43.662301</td>\n",
       "      <td>-79.389494</td>\n",
       "    </tr>\n",
       "    <tr>\n",
       "      <th>86</th>\n",
       "      <td>M7R</td>\n",
       "      <td>Mississauga</td>\n",
       "      <td>Canada Post Gateway Processing Centre</td>\n",
       "      <td>43.636966</td>\n",
       "      <td>-79.615819</td>\n",
       "    </tr>\n",
       "    <tr>\n",
       "      <th>87</th>\n",
       "      <td>M7Y</td>\n",
       "      <td>East Toronto</td>\n",
       "      <td>Business Reply Mail Processing Centre 969 Eastern</td>\n",
       "      <td>43.662744</td>\n",
       "      <td>-79.321558</td>\n",
       "    </tr>\n",
       "    <tr>\n",
       "      <th>88</th>\n",
       "      <td>M8V</td>\n",
       "      <td>Etobicoke</td>\n",
       "      <td>Humber Bay Shores, Mimico South, New Toronto</td>\n",
       "      <td>43.605647</td>\n",
       "      <td>-79.501321</td>\n",
       "    </tr>\n",
       "    <tr>\n",
       "      <th>89</th>\n",
       "      <td>M8W</td>\n",
       "      <td>Etobicoke</td>\n",
       "      <td>Alderwood, Long Branch</td>\n",
       "      <td>43.602414</td>\n",
       "      <td>-79.543484</td>\n",
       "    </tr>\n",
       "    <tr>\n",
       "      <th>90</th>\n",
       "      <td>M8X</td>\n",
       "      <td>Etobicoke</td>\n",
       "      <td>The Kingsway, Montgomery Road, Old Mill North</td>\n",
       "      <td>43.653654</td>\n",
       "      <td>-79.506944</td>\n",
       "    </tr>\n",
       "    <tr>\n",
       "      <th>91</th>\n",
       "      <td>M8Y</td>\n",
       "      <td>Etobicoke</td>\n",
       "      <td>Humber Bay, King's Mill Park, Kingsway Park So...</td>\n",
       "      <td>43.636258</td>\n",
       "      <td>-79.498509</td>\n",
       "    </tr>\n",
       "    <tr>\n",
       "      <th>92</th>\n",
       "      <td>M8Z</td>\n",
       "      <td>Etobicoke</td>\n",
       "      <td>Kingsway Park South West, Mimico NW, The Queen...</td>\n",
       "      <td>43.628841</td>\n",
       "      <td>-79.520999</td>\n",
       "    </tr>\n",
       "    <tr>\n",
       "      <th>93</th>\n",
       "      <td>M9A</td>\n",
       "      <td>Etobicoke</td>\n",
       "      <td>Islington Avenue</td>\n",
       "      <td>43.667856</td>\n",
       "      <td>-79.532242</td>\n",
       "    </tr>\n",
       "    <tr>\n",
       "      <th>94</th>\n",
       "      <td>M9B</td>\n",
       "      <td>Etobicoke</td>\n",
       "      <td>Cloverdale, Islington, Martin Grove, Princess ...</td>\n",
       "      <td>43.650943</td>\n",
       "      <td>-79.554724</td>\n",
       "    </tr>\n",
       "    <tr>\n",
       "      <th>95</th>\n",
       "      <td>M9C</td>\n",
       "      <td>Etobicoke</td>\n",
       "      <td>Bloordale Gardens, Eringate, Markland Wood, Ol...</td>\n",
       "      <td>43.643515</td>\n",
       "      <td>-79.577201</td>\n",
       "    </tr>\n",
       "    <tr>\n",
       "      <th>96</th>\n",
       "      <td>M9L</td>\n",
       "      <td>North York</td>\n",
       "      <td>Humber Summit</td>\n",
       "      <td>43.756303</td>\n",
       "      <td>-79.565963</td>\n",
       "    </tr>\n",
       "    <tr>\n",
       "      <th>97</th>\n",
       "      <td>M9M</td>\n",
       "      <td>North York</td>\n",
       "      <td>Emery, Humberlea</td>\n",
       "      <td>43.724766</td>\n",
       "      <td>-79.532242</td>\n",
       "    </tr>\n",
       "    <tr>\n",
       "      <th>98</th>\n",
       "      <td>M9N</td>\n",
       "      <td>York</td>\n",
       "      <td>Weston</td>\n",
       "      <td>43.706876</td>\n",
       "      <td>-79.518188</td>\n",
       "    </tr>\n",
       "    <tr>\n",
       "      <th>99</th>\n",
       "      <td>M9P</td>\n",
       "      <td>Etobicoke</td>\n",
       "      <td>Westmount</td>\n",
       "      <td>43.696319</td>\n",
       "      <td>-79.532242</td>\n",
       "    </tr>\n",
       "    <tr>\n",
       "      <th>100</th>\n",
       "      <td>M9R</td>\n",
       "      <td>Etobicoke</td>\n",
       "      <td>Kingsview Village, Martin Grove Gardens, Richv...</td>\n",
       "      <td>43.688905</td>\n",
       "      <td>-79.554724</td>\n",
       "    </tr>\n",
       "    <tr>\n",
       "      <th>101</th>\n",
       "      <td>M9V</td>\n",
       "      <td>Etobicoke</td>\n",
       "      <td>Albion Gardens, Beaumond Heights, Humbergate, ...</td>\n",
       "      <td>43.739416</td>\n",
       "      <td>-79.588437</td>\n",
       "    </tr>\n",
       "    <tr>\n",
       "      <th>102</th>\n",
       "      <td>M9W</td>\n",
       "      <td>Etobicoke</td>\n",
       "      <td>Northwest</td>\n",
       "      <td>43.706748</td>\n",
       "      <td>-79.594054</td>\n",
       "    </tr>\n",
       "  </tbody>\n",
       "</table>\n",
       "<p>103 rows × 5 columns</p>\n",
       "</div>"
      ],
      "text/plain": [
       "    PostalCode           Borough  \\\n",
       "0          M1B       Scarborough   \n",
       "1          M1C       Scarborough   \n",
       "2          M1E       Scarborough   \n",
       "3          M1G       Scarborough   \n",
       "4          M1H       Scarborough   \n",
       "5          M1J       Scarborough   \n",
       "6          M1K       Scarborough   \n",
       "7          M1L       Scarborough   \n",
       "8          M1M       Scarborough   \n",
       "9          M1N       Scarborough   \n",
       "10         M1P       Scarborough   \n",
       "11         M1R       Scarborough   \n",
       "12         M1S       Scarborough   \n",
       "13         M1T       Scarborough   \n",
       "14         M1V       Scarborough   \n",
       "15         M1W       Scarborough   \n",
       "16         M1X       Scarborough   \n",
       "17         M2H        North York   \n",
       "18         M2J        North York   \n",
       "19         M2K        North York   \n",
       "20         M2L        North York   \n",
       "21         M2M        North York   \n",
       "22         M2N        North York   \n",
       "23         M2P        North York   \n",
       "24         M2R        North York   \n",
       "25         M3A        North York   \n",
       "26         M3B        North York   \n",
       "27         M3C        North York   \n",
       "28         M3H        North York   \n",
       "29         M3J        North York   \n",
       "..         ...               ...   \n",
       "73         M6C              York   \n",
       "74         M6E              York   \n",
       "75         M6G  Downtown Toronto   \n",
       "76         M6H      West Toronto   \n",
       "77         M6J      West Toronto   \n",
       "78         M6K      West Toronto   \n",
       "79         M6L        North York   \n",
       "80         M6M              York   \n",
       "81         M6N              York   \n",
       "82         M6P      West Toronto   \n",
       "83         M6R      West Toronto   \n",
       "84         M6S      West Toronto   \n",
       "85         M7A      Queen's Park   \n",
       "86         M7R       Mississauga   \n",
       "87         M7Y      East Toronto   \n",
       "88         M8V         Etobicoke   \n",
       "89         M8W         Etobicoke   \n",
       "90         M8X         Etobicoke   \n",
       "91         M8Y         Etobicoke   \n",
       "92         M8Z         Etobicoke   \n",
       "93         M9A         Etobicoke   \n",
       "94         M9B         Etobicoke   \n",
       "95         M9C         Etobicoke   \n",
       "96         M9L        North York   \n",
       "97         M9M        North York   \n",
       "98         M9N              York   \n",
       "99         M9P         Etobicoke   \n",
       "100        M9R         Etobicoke   \n",
       "101        M9V         Etobicoke   \n",
       "102        M9W         Etobicoke   \n",
       "\n",
       "                                          Neighborhood   Latitude  Longitude  \n",
       "0                                       Rouge, Malvern  43.806686 -79.194353  \n",
       "1               Highland Creek, Rouge Hill, Port Union  43.784535 -79.160497  \n",
       "2                    Guildwood, Morningside, West Hill  43.763573 -79.188711  \n",
       "3                                               Woburn  43.770992 -79.216917  \n",
       "4                                            Cedarbrae  43.773136 -79.239476  \n",
       "5                                  Scarborough Village  43.744734 -79.239476  \n",
       "6          East Birchmount Park, Ionview, Kennedy Park  43.727929 -79.262029  \n",
       "7                      Clairlea, Golden Mile, Oakridge  43.711112 -79.284577  \n",
       "8      Cliffcrest, Cliffside, Scarborough Village West  43.716316 -79.239476  \n",
       "9                          Birch Cliff, Cliffside West  43.692657 -79.264848  \n",
       "10   Dorset Park, Scarborough Town Centre, Wexford ...  43.757410 -79.273304  \n",
       "11                                   Maryvale, Wexford  43.750072 -79.295849  \n",
       "12                                           Agincourt  43.794200 -79.262029  \n",
       "13             Clarks Corners, Sullivan, Tam O'Shanter  43.781638 -79.304302  \n",
       "14   Agincourt North, L'Amoreaux East, Milliken, St...  43.815252 -79.284577  \n",
       "15                                     L'Amoreaux West  43.799525 -79.318389  \n",
       "16                                         Upper Rouge  43.836125 -79.205636  \n",
       "17                                   Hillcrest Village  43.803762 -79.363452  \n",
       "18                        Fairview, Henry Farm, Oriole  43.778517 -79.346556  \n",
       "19                                     Bayview Village  43.786947 -79.385975  \n",
       "20                            Silver Hills, York Mills  43.757490 -79.374714  \n",
       "21                             Newtonbrook, Willowdale  43.789053 -79.408493  \n",
       "22                                    Willowdale South  43.770120 -79.408493  \n",
       "23                                     York Mills West  43.752758 -79.400049  \n",
       "24                                     Willowdale West  43.782736 -79.442259  \n",
       "25                                           Parkwoods  43.753259 -79.329656  \n",
       "26                                     Don Mills North  43.745906 -79.352188  \n",
       "27                    Flemingdon Park, Don Mills South  43.725900 -79.340923  \n",
       "28     Bathurst Manor, Downsview North, Wilson Heights  43.754328 -79.442259  \n",
       "29                     Northwood Park, York University  43.767980 -79.487262  \n",
       "..                                                 ...        ...        ...  \n",
       "73                                  Humewood-Cedarvale  43.693781 -79.428191  \n",
       "74                                 Caledonia-Fairbanks  43.689026 -79.453512  \n",
       "75                                            Christie  43.669542 -79.422564  \n",
       "76                        Dovercourt Village, Dufferin  43.669005 -79.442259  \n",
       "77                            Little Portugal, Trinity  43.647927 -79.419750  \n",
       "78        Brockton, Exhibition Place, Parkdale Village  43.636847 -79.428191  \n",
       "79                  Downsview, North Park, Upwood Park  43.713756 -79.490074  \n",
       "80      Del Ray, Keelesdale, Mount Dennis, Silverthorn  43.691116 -79.476013  \n",
       "81                       The Junction North, Runnymede  43.673185 -79.487262  \n",
       "82                       High Park, The Junction South  43.661608 -79.464763  \n",
       "83                              Parkdale, Roncesvalles  43.648960 -79.456325  \n",
       "84                                  Runnymede, Swansea  43.651571 -79.484450  \n",
       "85                                        Queen's Park  43.662301 -79.389494  \n",
       "86               Canada Post Gateway Processing Centre  43.636966 -79.615819  \n",
       "87   Business Reply Mail Processing Centre 969 Eastern  43.662744 -79.321558  \n",
       "88        Humber Bay Shores, Mimico South, New Toronto  43.605647 -79.501321  \n",
       "89                              Alderwood, Long Branch  43.602414 -79.543484  \n",
       "90       The Kingsway, Montgomery Road, Old Mill North  43.653654 -79.506944  \n",
       "91   Humber Bay, King's Mill Park, Kingsway Park So...  43.636258 -79.498509  \n",
       "92   Kingsway Park South West, Mimico NW, The Queen...  43.628841 -79.520999  \n",
       "93                                    Islington Avenue  43.667856 -79.532242  \n",
       "94   Cloverdale, Islington, Martin Grove, Princess ...  43.650943 -79.554724  \n",
       "95   Bloordale Gardens, Eringate, Markland Wood, Ol...  43.643515 -79.577201  \n",
       "96                                       Humber Summit  43.756303 -79.565963  \n",
       "97                                    Emery, Humberlea  43.724766 -79.532242  \n",
       "98                                              Weston  43.706876 -79.518188  \n",
       "99                                           Westmount  43.696319 -79.532242  \n",
       "100  Kingsview Village, Martin Grove Gardens, Richv...  43.688905 -79.554724  \n",
       "101  Albion Gardens, Beaumond Heights, Humbergate, ...  43.739416 -79.588437  \n",
       "102                                          Northwest  43.706748 -79.594054  \n",
       "\n",
       "[103 rows x 5 columns]"
      ]
     },
     "execution_count": 22,
     "metadata": {},
     "output_type": "execute_result"
    }
   ],
   "source": [
    "df_data"
   ]
  },
  {
   "cell_type": "markdown",
   "metadata": {},
   "source": [
    "## Part 3\n",
    "### this part focusses on exploring and clustering the neighborhoods in Toronto"
   ]
  },
  {
   "cell_type": "code",
   "execution_count": 23,
   "metadata": {
    "collapsed": false
   },
   "outputs": [],
   "source": [
    "import folium"
   ]
  },
  {
   "cell_type": "code",
   "execution_count": 24,
   "metadata": {
    "collapsed": false
   },
   "outputs": [
    {
     "data": {
      "text/html": [
       "<div style=\"width:100%;\"><div style=\"position:relative;width:100%;height:0;padding-bottom:60%;\"><iframe src=\"data:text/html;charset=utf-8;base64,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\" style=\"position:absolute;width:100%;height:100%;left:0;top:0;border:none !important;\" allowfullscreen webkitallowfullscreen mozallowfullscreen></iframe></div></div>"
      ],
      "text/plain": [
       "<folium.folium.Map at 0x4a9c940>"
      ]
     },
     "execution_count": 24,
     "metadata": {},
     "output_type": "execute_result"
    }
   ],
   "source": [
    "latitude = 43.6532\n",
    "longitude = -79.3832\n",
    "map_toronto = folium.Map(location=[latitude, longitude], zoom_start=10)\n",
    "map_toronto"
   ]
  },
  {
   "cell_type": "code",
   "execution_count": 25,
   "metadata": {
    "collapsed": false
   },
   "outputs": [
    {
     "data": {
      "text/html": [
       "<div style=\"width:100%;\"><div style=\"position:relative;width:100%;height:0;padding-bottom:60%;\"><iframe src=\"data:text/html;charset=utf-8;base64,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\" style=\"position:absolute;width:100%;height:100%;left:0;top:0;border:none !important;\" allowfullscreen webkitallowfullscreen mozallowfullscreen></iframe></div></div>"
      ],
      "text/plain": [
       "<folium.folium.Map at 0x4a9c940>"
      ]
     },
     "execution_count": 25,
     "metadata": {},
     "output_type": "execute_result"
    }
   ],
   "source": [
    "\n",
    "# add markers to map\n",
    "for lat, lng, borough, neighborhood in zip(df_data['Latitude'], df_data['Longitude'], df_data['Borough'], df_data['Neighborhood']):\n",
    "    label = '{}, {}'.format(neighborhood, borough)\n",
    "    label = folium.Popup(label, parse_html=True)\n",
    "    folium.CircleMarker(\n",
    "        [lat, lng],\n",
    "        radius=5,\n",
    "        popup=label,\n",
    "        color='blue',\n",
    "        fill=True,\n",
    "        fill_color='#3186cc',\n",
    "        fill_opacity=0.7,\n",
    "        parse_html=False).add_to(map_toronto)  \n",
    "    \n",
    "map_toronto"
   ]
  },
  {
   "cell_type": "code",
   "execution_count": 26,
   "metadata": {
    "collapsed": false
   },
   "outputs": [
    {
     "data": {
      "text/plain": [
       "North York          24\n",
       "Downtown Toronto    18\n",
       "Scarborough         17\n",
       "Etobicoke           12\n",
       "Central Toronto      9\n",
       "West Toronto         6\n",
       "East Toronto         5\n",
       "York                 5\n",
       "East York            5\n",
       "Queen's Park         1\n",
       "Mississauga          1\n",
       "Name: Borough, dtype: int64"
      ]
     },
     "execution_count": 26,
     "metadata": {},
     "output_type": "execute_result"
    }
   ],
   "source": [
    "df_data['Borough'].value_counts()"
   ]
  },
  {
   "cell_type": "markdown",
   "metadata": {},
   "source": [
    "### we plan to explore only Downtown Toronto Boroughs"
   ]
  },
  {
   "cell_type": "code",
   "execution_count": 27,
   "metadata": {
    "collapsed": false
   },
   "outputs": [],
   "source": [
    "downtown_toronto = df_data[df_data['Borough']=='Downtown Toronto'].reset_index(drop=True)"
   ]
  },
  {
   "cell_type": "code",
   "execution_count": 28,
   "metadata": {
    "collapsed": false
   },
   "outputs": [
    {
     "data": {
      "text/html": [
       "<div>\n",
       "<table border=\"1\" class=\"dataframe\">\n",
       "  <thead>\n",
       "    <tr style=\"text-align: right;\">\n",
       "      <th></th>\n",
       "      <th>PostalCode</th>\n",
       "      <th>Borough</th>\n",
       "      <th>Neighborhood</th>\n",
       "      <th>Latitude</th>\n",
       "      <th>Longitude</th>\n",
       "    </tr>\n",
       "  </thead>\n",
       "  <tbody>\n",
       "    <tr>\n",
       "      <th>0</th>\n",
       "      <td>M4W</td>\n",
       "      <td>Downtown Toronto</td>\n",
       "      <td>Rosedale</td>\n",
       "      <td>43.679563</td>\n",
       "      <td>-79.377529</td>\n",
       "    </tr>\n",
       "    <tr>\n",
       "      <th>1</th>\n",
       "      <td>M4X</td>\n",
       "      <td>Downtown Toronto</td>\n",
       "      <td>Cabbagetown, St. James Town</td>\n",
       "      <td>43.667967</td>\n",
       "      <td>-79.367675</td>\n",
       "    </tr>\n",
       "    <tr>\n",
       "      <th>2</th>\n",
       "      <td>M4Y</td>\n",
       "      <td>Downtown Toronto</td>\n",
       "      <td>Church and Wellesley</td>\n",
       "      <td>43.665860</td>\n",
       "      <td>-79.383160</td>\n",
       "    </tr>\n",
       "    <tr>\n",
       "      <th>3</th>\n",
       "      <td>M5A</td>\n",
       "      <td>Downtown Toronto</td>\n",
       "      <td>Harbourfront, Regent Park</td>\n",
       "      <td>43.654260</td>\n",
       "      <td>-79.360636</td>\n",
       "    </tr>\n",
       "    <tr>\n",
       "      <th>4</th>\n",
       "      <td>M5B</td>\n",
       "      <td>Downtown Toronto</td>\n",
       "      <td>Ryerson, Garden District</td>\n",
       "      <td>43.657162</td>\n",
       "      <td>-79.378937</td>\n",
       "    </tr>\n",
       "    <tr>\n",
       "      <th>5</th>\n",
       "      <td>M5C</td>\n",
       "      <td>Downtown Toronto</td>\n",
       "      <td>St. James Town</td>\n",
       "      <td>43.651494</td>\n",
       "      <td>-79.375418</td>\n",
       "    </tr>\n",
       "    <tr>\n",
       "      <th>6</th>\n",
       "      <td>M5E</td>\n",
       "      <td>Downtown Toronto</td>\n",
       "      <td>Berczy Park</td>\n",
       "      <td>43.644771</td>\n",
       "      <td>-79.373306</td>\n",
       "    </tr>\n",
       "    <tr>\n",
       "      <th>7</th>\n",
       "      <td>M5G</td>\n",
       "      <td>Downtown Toronto</td>\n",
       "      <td>Central Bay Street</td>\n",
       "      <td>43.657952</td>\n",
       "      <td>-79.387383</td>\n",
       "    </tr>\n",
       "    <tr>\n",
       "      <th>8</th>\n",
       "      <td>M5H</td>\n",
       "      <td>Downtown Toronto</td>\n",
       "      <td>Adelaide, King, Richmond</td>\n",
       "      <td>43.650571</td>\n",
       "      <td>-79.384568</td>\n",
       "    </tr>\n",
       "    <tr>\n",
       "      <th>9</th>\n",
       "      <td>M5J</td>\n",
       "      <td>Downtown Toronto</td>\n",
       "      <td>Harbourfront East, Toronto Islands, Union Station</td>\n",
       "      <td>43.640816</td>\n",
       "      <td>-79.381752</td>\n",
       "    </tr>\n",
       "    <tr>\n",
       "      <th>10</th>\n",
       "      <td>M5K</td>\n",
       "      <td>Downtown Toronto</td>\n",
       "      <td>Design Exchange, Toronto Dominion Centre</td>\n",
       "      <td>43.647177</td>\n",
       "      <td>-79.381576</td>\n",
       "    </tr>\n",
       "    <tr>\n",
       "      <th>11</th>\n",
       "      <td>M5L</td>\n",
       "      <td>Downtown Toronto</td>\n",
       "      <td>Commerce Court, Victoria Hotel</td>\n",
       "      <td>43.648198</td>\n",
       "      <td>-79.379817</td>\n",
       "    </tr>\n",
       "    <tr>\n",
       "      <th>12</th>\n",
       "      <td>M5S</td>\n",
       "      <td>Downtown Toronto</td>\n",
       "      <td>Harbord, University of Toronto</td>\n",
       "      <td>43.662696</td>\n",
       "      <td>-79.400049</td>\n",
       "    </tr>\n",
       "    <tr>\n",
       "      <th>13</th>\n",
       "      <td>M5T</td>\n",
       "      <td>Downtown Toronto</td>\n",
       "      <td>Chinatown, Grange Park, Kensington Market</td>\n",
       "      <td>43.653206</td>\n",
       "      <td>-79.400049</td>\n",
       "    </tr>\n",
       "    <tr>\n",
       "      <th>14</th>\n",
       "      <td>M5V</td>\n",
       "      <td>Downtown Toronto</td>\n",
       "      <td>CN Tower, Bathurst Quay, Island airport, Harbo...</td>\n",
       "      <td>43.628947</td>\n",
       "      <td>-79.394420</td>\n",
       "    </tr>\n",
       "    <tr>\n",
       "      <th>15</th>\n",
       "      <td>M5W</td>\n",
       "      <td>Downtown Toronto</td>\n",
       "      <td>Stn A PO Boxes 25 The Esplanade</td>\n",
       "      <td>43.646435</td>\n",
       "      <td>-79.374846</td>\n",
       "    </tr>\n",
       "    <tr>\n",
       "      <th>16</th>\n",
       "      <td>M5X</td>\n",
       "      <td>Downtown Toronto</td>\n",
       "      <td>First Canadian Place, Underground city</td>\n",
       "      <td>43.648429</td>\n",
       "      <td>-79.382280</td>\n",
       "    </tr>\n",
       "    <tr>\n",
       "      <th>17</th>\n",
       "      <td>M6G</td>\n",
       "      <td>Downtown Toronto</td>\n",
       "      <td>Christie</td>\n",
       "      <td>43.669542</td>\n",
       "      <td>-79.422564</td>\n",
       "    </tr>\n",
       "  </tbody>\n",
       "</table>\n",
       "</div>"
      ],
      "text/plain": [
       "   PostalCode           Borough  \\\n",
       "0         M4W  Downtown Toronto   \n",
       "1         M4X  Downtown Toronto   \n",
       "2         M4Y  Downtown Toronto   \n",
       "3         M5A  Downtown Toronto   \n",
       "4         M5B  Downtown Toronto   \n",
       "5         M5C  Downtown Toronto   \n",
       "6         M5E  Downtown Toronto   \n",
       "7         M5G  Downtown Toronto   \n",
       "8         M5H  Downtown Toronto   \n",
       "9         M5J  Downtown Toronto   \n",
       "10        M5K  Downtown Toronto   \n",
       "11        M5L  Downtown Toronto   \n",
       "12        M5S  Downtown Toronto   \n",
       "13        M5T  Downtown Toronto   \n",
       "14        M5V  Downtown Toronto   \n",
       "15        M5W  Downtown Toronto   \n",
       "16        M5X  Downtown Toronto   \n",
       "17        M6G  Downtown Toronto   \n",
       "\n",
       "                                         Neighborhood   Latitude  Longitude  \n",
       "0                                            Rosedale  43.679563 -79.377529  \n",
       "1                         Cabbagetown, St. James Town  43.667967 -79.367675  \n",
       "2                                Church and Wellesley  43.665860 -79.383160  \n",
       "3                           Harbourfront, Regent Park  43.654260 -79.360636  \n",
       "4                            Ryerson, Garden District  43.657162 -79.378937  \n",
       "5                                      St. James Town  43.651494 -79.375418  \n",
       "6                                         Berczy Park  43.644771 -79.373306  \n",
       "7                                  Central Bay Street  43.657952 -79.387383  \n",
       "8                            Adelaide, King, Richmond  43.650571 -79.384568  \n",
       "9   Harbourfront East, Toronto Islands, Union Station  43.640816 -79.381752  \n",
       "10           Design Exchange, Toronto Dominion Centre  43.647177 -79.381576  \n",
       "11                     Commerce Court, Victoria Hotel  43.648198 -79.379817  \n",
       "12                     Harbord, University of Toronto  43.662696 -79.400049  \n",
       "13          Chinatown, Grange Park, Kensington Market  43.653206 -79.400049  \n",
       "14  CN Tower, Bathurst Quay, Island airport, Harbo...  43.628947 -79.394420  \n",
       "15                    Stn A PO Boxes 25 The Esplanade  43.646435 -79.374846  \n",
       "16             First Canadian Place, Underground city  43.648429 -79.382280  \n",
       "17                                           Christie  43.669542 -79.422564  "
      ]
     },
     "execution_count": 28,
     "metadata": {},
     "output_type": "execute_result"
    }
   ],
   "source": [
    "downtown_toronto"
   ]
  },
  {
   "cell_type": "code",
   "execution_count": 29,
   "metadata": {
    "collapsed": false,
    "scrolled": true
   },
   "outputs": [
    {
     "data": {
      "text/html": [
       "<div style=\"width:100%;\"><div style=\"position:relative;width:100%;height:0;padding-bottom:60%;\"><iframe src=\"data:text/html;charset=utf-8;base64,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\" style=\"position:absolute;width:100%;height:100%;left:0;top:0;border:none !important;\" allowfullscreen webkitallowfullscreen mozallowfullscreen></iframe></div></div>"
      ],
      "text/plain": [
       "<folium.folium.Map at 0xa37c400>"
      ]
     },
     "execution_count": 29,
     "metadata": {},
     "output_type": "execute_result"
    }
   ],
   "source": [
    "latitude = 43.6543 \n",
    "longitude = -79.3860\n",
    "map_downtown = folium.Map(location=[latitude, longitude], zoom_start=12)\n",
    "\n",
    "for lat, lng, borough, neighborhood in zip(downtown_toronto['Latitude'], downtown_toronto['Longitude'], downtown_toronto['Borough'], downtown_toronto['Neighborhood']):\n",
    "    label = '{}, {}'.format(neighborhood, borough)\n",
    "    label = folium.Popup(label, parse_html=True)\n",
    "    folium.CircleMarker(\n",
    "        [lat, lng],\n",
    "        radius=5,\n",
    "        popup=label,\n",
    "        color='blue',\n",
    "        fill=True,\n",
    "        fill_color='#3186cc',\n",
    "        fill_opacity=0.7,\n",
    "        parse_html=False).add_to(map_downtown)  \n",
    "    \n",
    "map_downtown"
   ]
  },
  {
   "cell_type": "markdown",
   "metadata": {},
   "source": [
    "### lets explore the neighborhood near Central Bay Street"
   ]
  },
  {
   "cell_type": "code",
   "execution_count": 30,
   "metadata": {
    "collapsed": false
   },
   "outputs": [
    {
     "data": {
      "text/plain": [
       "'Central Bay Street'"
      ]
     },
     "execution_count": 30,
     "metadata": {},
     "output_type": "execute_result"
    }
   ],
   "source": [
    "downtown_toronto.loc[7, 'Neighborhood']"
   ]
  },
  {
   "cell_type": "code",
   "execution_count": 31,
   "metadata": {
    "collapsed": false
   },
   "outputs": [
    {
     "name": "stdout",
     "output_type": "stream",
     "text": [
      "Latitude and longitude values of Central Bay Street are 43.6579524, -79.3873826.\n"
     ]
    }
   ],
   "source": [
    "neighborhood_latitude = downtown_toronto.loc[7, 'Latitude'] # neighborhood latitude value\n",
    "neighborhood_longitude = downtown_toronto.loc[7, 'Longitude'] # neighborhood longitude value\n",
    "\n",
    "neighborhood_name = downtown_toronto.loc[7, 'Neighborhood'] # neighborhood name\n",
    "\n",
    "print('Latitude and longitude values of {} are {}, {}.'.format(neighborhood_name, \n",
    "                                                               neighborhood_latitude, \n",
    "                                                               neighborhood_longitude))"
   ]
  },
  {
   "cell_type": "code",
   "execution_count": 32,
   "metadata": {
    "collapsed": true
   },
   "outputs": [],
   "source": [
    "# @hidden_cell\n",
    "CLIENT_ID='HEL3APBYSYIE4X4Y2S1RGKECXNJELZX3SDULSUPPLEXVFJ0E'\n",
    "CLIENT_SECRET = 'JESGRQE1GDCRGUDQMZBODK0RLMLBCMBWYP2RMHCD5KMTZHFD'"
   ]
  },
  {
   "cell_type": "code",
   "execution_count": 35,
   "metadata": {
    "collapsed": true
   },
   "outputs": [],
   "source": [
    "radius=100\n",
    "LIMIT=10\n",
    "VERSION='20190915'\n",
    "import requests\n",
    "url = 'https://api.foursquare.com/v2/venues/explore?&client_id={}&client_secret={}&v={}&ll={},{}&radius={}&limit={}'.format(\n",
    "    CLIENT_ID, \n",
    "    CLIENT_SECRET, \n",
    "    VERSION, \n",
    "    neighborhood_latitude, \n",
    "    neighborhood_longitude, \n",
    "    radius, \n",
    "    LIMIT)"
   ]
  },
  {
   "cell_type": "code",
   "execution_count": 36,
   "metadata": {
    "collapsed": false
   },
   "outputs": [
    {
     "data": {
      "text/plain": [
       "{'meta': {'code': 200, 'requestId': '5d7e709c531593002ce455d0'},\n",
       " 'response': {'groups': [{'items': [{'reasons': {'count': 0,\n",
       "       'items': [{'reasonName': 'globalInteractionReason',\n",
       "         'summary': 'This spot is popular',\n",
       "         'type': 'general'}]},\n",
       "      'referralId': 'e-0-4c6affbe9669e21e3708aa51-0',\n",
       "      'venue': {'categories': [{'icon': {'prefix': 'https://ss3.4sqi.net/img/categories_v2/food/coffeeshop_',\n",
       "          'suffix': '.png'},\n",
       "         'id': '4bf58dd8d48988d1e0931735',\n",
       "         'name': 'Coffee Shop',\n",
       "         'pluralName': 'Coffee Shops',\n",
       "         'primary': True,\n",
       "         'shortName': 'Coffee Shop'}],\n",
       "       'id': '4c6affbe9669e21e3708aa51',\n",
       "       'location': {'address': '555 University Ave',\n",
       "        'cc': 'CA',\n",
       "        'city': 'Toronto',\n",
       "        'country': 'Canada',\n",
       "        'crossStreet': 'in Sick Kids Hospital',\n",
       "        'distance': 97,\n",
       "        'formattedAddress': ['555 University Ave (in Sick Kids Hospital)',\n",
       "         'Toronto ON M5G 1X8',\n",
       "         'Canada'],\n",
       "        'labeledLatLngs': [{'label': 'display',\n",
       "          'lat': 43.6573986,\n",
       "          'lng': -79.3883129}],\n",
       "        'lat': 43.6573986,\n",
       "        'lng': -79.3883129,\n",
       "        'postalCode': 'M5G 1X8',\n",
       "        'state': 'ON'},\n",
       "       'name': 'Tim Hortons',\n",
       "       'photos': {'count': 0, 'groups': []}}},\n",
       "     {'reasons': {'count': 0,\n",
       "       'items': [{'reasonName': 'globalInteractionReason',\n",
       "         'summary': 'This spot is popular',\n",
       "         'type': 'general'}]},\n",
       "      'referralId': 'e-0-4bb0ad32f964a52031543ce3-1',\n",
       "      'venue': {'categories': [{'icon': {'prefix': 'https://ss3.4sqi.net/img/categories_v2/shops/pharmacy_',\n",
       "          'suffix': '.png'},\n",
       "         'id': '4bf58dd8d48988d10f951735',\n",
       "         'name': 'Pharmacy',\n",
       "         'pluralName': 'Pharmacies',\n",
       "         'primary': True,\n",
       "         'shortName': 'Pharmacy'}],\n",
       "       'id': '4bb0ad32f964a52031543ce3',\n",
       "       'location': {'address': '555 University Ave',\n",
       "        'cc': 'CA',\n",
       "        'city': 'Toronto',\n",
       "        'country': 'Canada',\n",
       "        'crossStreet': 'btw Elm & Gerrard',\n",
       "        'distance': 98,\n",
       "        'formattedAddress': ['555 University Ave (btw Elm & Gerrard)',\n",
       "         'Toronto ON M5G 1X8',\n",
       "         'Canada'],\n",
       "        'labeledLatLngs': [{'label': 'display',\n",
       "          'lat': 43.657566,\n",
       "          'lng': -79.388477}],\n",
       "        'lat': 43.657566,\n",
       "        'lng': -79.388477,\n",
       "        'postalCode': 'M5G 1X8',\n",
       "        'state': 'ON'},\n",
       "       'name': 'Shoppers Drug Mart',\n",
       "       'photos': {'count': 0, 'groups': []}}},\n",
       "     {'reasons': {'count': 0,\n",
       "       'items': [{'reasonName': 'globalInteractionReason',\n",
       "         'summary': 'This spot is popular',\n",
       "         'type': 'general'}]},\n",
       "      'referralId': 'e-0-4e7cb129b3ad0e8263d6e84b-2',\n",
       "      'venue': {'categories': [{'icon': {'prefix': 'https://ss3.4sqi.net/img/categories_v2/food/deli_',\n",
       "          'suffix': '.png'},\n",
       "         'id': '4bf58dd8d48988d1c5941735',\n",
       "         'name': 'Sandwich Place',\n",
       "         'pluralName': 'Sandwich Places',\n",
       "         'primary': True,\n",
       "         'shortName': 'Sandwiches'}],\n",
       "       'id': '4e7cb129b3ad0e8263d6e84b',\n",
       "       'location': {'address': '555 University Ave.',\n",
       "        'cc': 'CA',\n",
       "        'city': 'Toronto',\n",
       "        'country': 'Canada',\n",
       "        'crossStreet': 'at Elm St. (in Sick Kids Hospital)',\n",
       "        'distance': 91,\n",
       "        'formattedAddress': ['555 University Ave. (at Elm St. (in Sick Kids Hospital))',\n",
       "         'Toronto ON M5G 1X8',\n",
       "         'Canada'],\n",
       "        'labeledLatLngs': [{'label': 'display',\n",
       "          'lat': 43.65746095911212,\n",
       "          'lng': -79.38647880368448}],\n",
       "        'lat': 43.65746095911212,\n",
       "        'lng': -79.38647880368448,\n",
       "        'postalCode': 'M5G 1X8',\n",
       "        'state': 'ON'},\n",
       "       'name': 'Subway',\n",
       "       'photos': {'count': 0, 'groups': []}}}],\n",
       "    'name': 'recommended',\n",
       "    'type': 'Recommended Places'}],\n",
       "  'headerFullLocation': 'Bay Street Corridor, Toronto',\n",
       "  'headerLocation': 'Bay Street Corridor',\n",
       "  'headerLocationGranularity': 'neighborhood',\n",
       "  'suggestedBounds': {'ne': {'lat': 43.6588524009, 'lng': -79.38614092367914},\n",
       "   'sw': {'lat': 43.657052399099996, 'lng': -79.38862427632085}},\n",
       "  'totalResults': 3,\n",
       "  'warning': {'text': \"There aren't a lot of results near you. Try something more general, reset your filters, or expand the search area.\"}}}"
      ]
     },
     "execution_count": 36,
     "metadata": {},
     "output_type": "execute_result"
    }
   ],
   "source": [
    "results = requests.get(url).json()\n",
    "results"
   ]
  },
  {
   "cell_type": "code",
   "execution_count": 37,
   "metadata": {
    "collapsed": true
   },
   "outputs": [],
   "source": [
    "def get_category_type(row):\n",
    "    try:\n",
    "        categories_list = row['categories']\n",
    "    except:\n",
    "        categories_list = row['venue.categories']\n",
    "        \n",
    "    if len(categories_list) == 0:\n",
    "        return None\n",
    "    else:\n",
    "        return categories_list[0]['name']"
   ]
  },
  {
   "cell_type": "code",
   "execution_count": 38,
   "metadata": {
    "collapsed": false
   },
   "outputs": [
    {
     "data": {
      "text/html": [
       "<div>\n",
       "<table border=\"1\" class=\"dataframe\">\n",
       "  <thead>\n",
       "    <tr style=\"text-align: right;\">\n",
       "      <th></th>\n",
       "      <th>name</th>\n",
       "      <th>categories</th>\n",
       "      <th>lat</th>\n",
       "      <th>lng</th>\n",
       "    </tr>\n",
       "  </thead>\n",
       "  <tbody>\n",
       "    <tr>\n",
       "      <th>0</th>\n",
       "      <td>Tim Hortons</td>\n",
       "      <td>Coffee Shop</td>\n",
       "      <td>43.657399</td>\n",
       "      <td>-79.388313</td>\n",
       "    </tr>\n",
       "    <tr>\n",
       "      <th>1</th>\n",
       "      <td>Shoppers Drug Mart</td>\n",
       "      <td>Pharmacy</td>\n",
       "      <td>43.657566</td>\n",
       "      <td>-79.388477</td>\n",
       "    </tr>\n",
       "    <tr>\n",
       "      <th>2</th>\n",
       "      <td>Subway</td>\n",
       "      <td>Sandwich Place</td>\n",
       "      <td>43.657461</td>\n",
       "      <td>-79.386479</td>\n",
       "    </tr>\n",
       "  </tbody>\n",
       "</table>\n",
       "</div>"
      ],
      "text/plain": [
       "                 name      categories        lat        lng\n",
       "0         Tim Hortons     Coffee Shop  43.657399 -79.388313\n",
       "1  Shoppers Drug Mart        Pharmacy  43.657566 -79.388477\n",
       "2              Subway  Sandwich Place  43.657461 -79.386479"
      ]
     },
     "execution_count": 38,
     "metadata": {},
     "output_type": "execute_result"
    }
   ],
   "source": [
    "from pandas.io.json import json_normalize \n",
    "venues = results['response']['groups'][0]['items']\n",
    "    \n",
    "nearby_venues = json_normalize(venues) # flatten JSON\n",
    "\n",
    "# filter columns\n",
    "filtered_columns = ['venue.name', 'venue.categories', 'venue.location.lat', 'venue.location.lng']\n",
    "nearby_venues =nearby_venues.loc[:, filtered_columns]\n",
    "\n",
    "# filter the category for each row\n",
    "nearby_venues['venue.categories'] = nearby_venues.apply(get_category_type, axis=1)\n",
    "\n",
    "# clean columns\n",
    "nearby_venues.columns = [col.split(\".\")[-1] for col in nearby_venues.columns]\n",
    "\n",
    "nearby_venues.head()"
   ]
  },
  {
   "cell_type": "code",
   "execution_count": 39,
   "metadata": {
    "collapsed": false
   },
   "outputs": [
    {
     "name": "stdout",
     "output_type": "stream",
     "text": [
      "3 venues were returned by Foursquare.\n"
     ]
    }
   ],
   "source": [
    "print('{} venues were returned by Foursquare.'.format(nearby_venues.shape[0]))"
   ]
  },
  {
   "cell_type": "code",
   "execution_count": null,
   "metadata": {
    "collapsed": true
   },
   "outputs": [],
   "source": []
  }
 ],
 "metadata": {
  "kernelspec": {
   "display_name": "Python 3",
   "language": "python",
   "name": "python3"
  },
  "language_info": {
   "codemirror_mode": {
    "name": "ipython",
    "version": 3
   },
   "file_extension": ".py",
   "mimetype": "text/x-python",
   "name": "python",
   "nbconvert_exporter": "python",
   "pygments_lexer": "ipython3",
   "version": "3.4.4"
  }
 },
 "nbformat": 4,
 "nbformat_minor": 1
}
